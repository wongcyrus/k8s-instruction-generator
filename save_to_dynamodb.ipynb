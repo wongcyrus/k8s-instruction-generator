{
 "cells": [
  {
   "cell_type": "markdown",
   "metadata": {},
   "source": [
    "# Save the AI generated conversation to Game DynamoDB"
   ]
  },
  {
   "cell_type": "code",
   "execution_count": null,
   "metadata": {},
   "outputs": [],
   "source": [
    "dynamodb_table_name = \"k8s-grader-api-demo-ConversationTable-Q12XU5X3WPMP\""
   ]
  },
  {
   "cell_type": "code",
   "execution_count": null,
   "metadata": {},
   "outputs": [],
   "source": [
    "import os\n",
    "\n",
    "\n",
    "output_dir = \"output/rerwrite/\"\n",
    "game = \"game01\"\n",
    "\n",
    "tasks_folder = os.path.join(output_dir, game)\n",
    "\n",
    "file_list = []\n",
    "for root, dirs, files in os.walk(tasks_folder):\n",
    "    for file in files:\n",
    "        file_list.append(os.path.join(root, file))"
   ]
  },
  {
   "cell_type": "code",
   "execution_count": null,
   "metadata": {},
   "outputs": [],
   "source": [
    "data ={}\n",
    "for file_path in file_list:\n",
    "    parts = file_path.split('/')\n",
    "    key = f\"{parts[2]}#{parts[3]}#{parts[4]}\"  \n",
    "    with open(file_path, 'r') as f:\n",
    "        content = f.read()\n",
    "        data[key] = content   \n",
    "    \n"
   ]
  },
  {
   "cell_type": "code",
   "execution_count": null,
   "metadata": {},
   "outputs": [],
   "source": [
    "import boto3\n",
    "\n",
    "# Set up the boto3 session with the specified profile\n",
    "session = boto3.Session(profile_name=\"leaner_lab\", region_name=\"us-east-1\")\n",
    "dynamodb = session.resource(\"dynamodb\")\n",
    "\n",
    "# Get the table reference\n",
    "table = dynamodb.Table(dynamodb_table_name)\n",
    "\n",
    "# Iterate through data and put items in DynamoDB\n",
    "for key, content in data.items():\n",
    "    # Create item structure for DynamoDB\n",
    "    item = {\n",
    "        \"key\": key,\n",
    "        \"instruction\": content,\n",
    "    }\n",
    "\n",
    "    # Put item in DynamoDB\n",
    "    response = table.put_item(Item=item)\n",
    "\n",
    "print(\n",
    "    f\"Successfully stored {len(data)} items in DynamoDB table '{dynamodb_table_name}'\"\n",
    ")"
   ]
  },
  {
   "cell_type": "code",
   "execution_count": null,
   "metadata": {},
   "outputs": [],
   "source": [
    "random_output_dir = \"output/random/\"\n",
    "\n",
    "data = {}\n",
    "file_list = []\n",
    "for root, dirs, files in os.walk(random_output_dir):\n",
    "    for file in files:\n",
    "        file_list.append(os.path.join(root, file))\n",
    "        # Extract 'Stella' from the file path\n",
    "        name = os.path.splitext(file)[0]\n",
    "        file_content = open(os.path.join(root, file), \"r\").read()\n",
    "\n",
    "        data[name] = file_content"
   ]
  },
  {
   "cell_type": "code",
   "execution_count": null,
   "metadata": {},
   "outputs": [],
   "source": [
    "import boto3\n",
    "\n",
    "# Set up the boto3 session with the specified profile\n",
    "session = boto3.Session(profile_name=\"leaner_lab\", region_name=\"us-east-1\")\n",
    "dynamodb = session.resource(\"dynamodb\")\n",
    "\n",
    "# Get the table reference\n",
    "table = dynamodb.Table(dynamodb_table_name)\n",
    "\n",
    "# Iterate through data and put items in DynamoDB\n",
    "for key, content in data.items():\n",
    "    # Create item structure for DynamoDB\n",
    "    item = {\n",
    "        \"key\": key,\n",
    "        \"instruction\": content,\n",
    "    }\n",
    "\n",
    "    # Put item in DynamoDB\n",
    "    response = table.put_item(Item=item)\n",
    "\n",
    "print(\n",
    "    f\"Successfully stored {len(data)} items in DynamoDB table '{dynamodb_table_name}'\"\n",
    ")"
   ]
  },
  {
   "cell_type": "code",
   "execution_count": null,
   "metadata": {},
   "outputs": [],
   "source": []
  }
 ],
 "metadata": {
  "kernelspec": {
   "display_name": "venv (3.12.11)",
   "language": "python",
   "name": "python3"
  },
  "language_info": {
   "codemirror_mode": {
    "name": "ipython",
    "version": 3
   },
   "file_extension": ".py",
   "mimetype": "text/x-python",
   "name": "python",
   "nbconvert_exporter": "python",
   "pygments_lexer": "ipython3",
   "version": "3.12.11"
  }
 },
 "nbformat": 4,
 "nbformat_minor": 2
}
