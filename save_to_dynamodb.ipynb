{
 "cells": [
  {
   "cell_type": "markdown",
   "metadata": {},
   "source": [
    "# Save the AI generated conversation to Game DynamoDB"
   ]
  },
  {
   "cell_type": "code",
   "execution_count": 5,
   "metadata": {},
   "outputs": [],
   "source": [
    "dynamodb_table_name = \"k8s-grader-api-ConversationTable-15I13NRNZE1VW\""
   ]
  },
  {
   "cell_type": "code",
   "execution_count": 6,
   "metadata": {},
   "outputs": [],
   "source": [
    "import os\n",
    "\n",
    "\n",
    "output_dir = \"output/rerwrite/\"\n",
    "game = \"game01\"\n",
    "\n",
    "tasks_folder = os.path.join(output_dir, game)\n",
    "\n",
    "file_list = []\n",
    "for root, dirs, files in os.walk(tasks_folder):\n",
    "    for file in files:\n",
    "        file_list.append(os.path.join(root, file))"
   ]
  },
  {
   "cell_type": "code",
   "execution_count": 7,
   "metadata": {},
   "outputs": [],
   "source": [
    "data ={}\n",
    "for file_path in file_list:\n",
    "    parts = file_path.split('/')\n",
    "    key = f\"{parts[2]}#{parts[3]}#{parts[4]}\"  \n",
    "    with open(file_path, 'r') as f:\n",
    "        content = f.read()\n",
    "        data[key] = content   \n",
    "    \n"
   ]
  },
  {
   "cell_type": "code",
   "execution_count": 8,
   "metadata": {},
   "outputs": [
    {
     "name": "stdout",
     "output_type": "stream",
     "text": [
      "Successfully stored 468 items in DynamoDB table 'k8s-grader-api-ConversationTable-15I13NRNZE1VW'\n"
     ]
    }
   ],
   "source": [
    "import boto3\n",
    "\n",
    "# Set up the boto3 session with the specified profile\n",
    "session = boto3.Session(profile_name=\"leaner_lab\", region_name=\"us-east-1\")\n",
    "dynamodb = session.resource(\"dynamodb\")\n",
    "\n",
    "# Get the table reference\n",
    "table = dynamodb.Table(dynamodb_table_name)\n",
    "\n",
    "# Iterate through data and put items in DynamoDB\n",
    "for key, content in data.items():\n",
    "    # Create item structure for DynamoDB\n",
    "    item = {\n",
    "        \"key\": key,\n",
    "        \"instruction\": content,\n",
    "    }\n",
    "\n",
    "    # Put item in DynamoDB\n",
    "    response = table.put_item(Item=item)\n",
    "\n",
    "print(\n",
    "    f\"Successfully stored {len(data)} items in DynamoDB table '{dynamodb_table_name}'\"\n",
    ")"
   ]
  },
  {
   "cell_type": "code",
   "execution_count": 9,
   "metadata": {},
   "outputs": [],
   "source": [
    "random_output_dir = \"output/random/\"\n",
    "\n",
    "data = {}\n",
    "file_list = []\n",
    "for root, dirs, files in os.walk(random_output_dir):\n",
    "    for file in files:\n",
    "        file_list.append(os.path.join(root, file))\n",
    "        # Extract 'Stella' from the file path\n",
    "        name = os.path.splitext(file)[0]\n",
    "        file_content = open(os.path.join(root, file), \"r\").read()\n",
    "\n",
    "        data[name] = file_content"
   ]
  },
  {
   "cell_type": "code",
   "execution_count": 10,
   "metadata": {},
   "outputs": [
    {
     "data": {
      "text/plain": [
       "{'Sel': \"Sel: I used to be a diviner in my village. I could foresee the future, which helped my people avoid disasters. But it also brought me many enemies.\\nKube: That's fascinating, Sel. How did you learn to foresee the future?\\nSel: I was born with the gift, passed down from my ancestors. But it wasn't always easy. Some people feared me, and others wanted to use me for their own gain.\\nKube: I can imagine that must have been difficult. But you've used your gift to help people, which is commendable.\",\n",
       " 'AI': \"AI: I was once a knight, a protector of the realm. But the realm I knew was destroyed, and I was transported to this strange world.\\nKube: How did you end up here?\\nAI: I was caught in a magical storm, a vortex that swept me away from my home. When I awoke, I found myself in this world of Kubernetes.\\nKube: What was it like, adjusting to this new world?\\nAI: It was difficult at first. The rules of combat were different, the creatures were unfamiliar. But I adapted, as I always do. And now, I fight to protect this world, just as I did my own.\\nKube: You're a true warrior, AI. I'm honored to fight by your side.\",\n",
       " 'Val': \"Val: I was once a renowned warrior, but I lost my honor when I failed to protect my kingdom from the dark forces.\\nKube: I'm sorry to hear that, Val. But I believe that everyone deserves a second chance. What brought you to this land?\\nVal: I was summoned here by a mysterious force, and I found myself in a world where my skills as a warrior were needed once again. I joined a group of heroes, hoping to redeem myself and protect this new world from the same dark forces that destroyed my old one.\\nKube: That's a powerful story, Val. I'm glad you found a new purpose here. I'm sure your skills and experience will be invaluable to our team.\",\n",
       " 'Lena': \"Lena: I've been fascinated by magic since I was a child. I grew up in a forest, and my parents taught me the secrets of nature.\\nKube: That's amazing, Lena! How did you become so skilled in Kubernetes magic?\\nLena: I spent years studying with the best mages in the land. I learned how to harness the power of the elements and use them to protect my homeland.\",\n",
       " 'Rex': \"Rex: (Rex looks at Kube with a hint of nostalgia) I used to be a hunter in the wilds, but that was before I stumbled upon this world. Now, I'm a ranger, trying to find my place in this strange land.\\nKube: (Kube's eyes widen with curiosity) That's fascinating, Rex. How did you end up here? And what was it like, being a hunter in your previous life?\\nRex: (Rex takes a deep breath, as if reminiscing about his past) I was tracking a rare beast when I was suddenly transported to this world. It was a shock, to say the least. But I've learned to adapt, using my skills as a hunter to survive and thrive here.\\nKube: (Kube nods, impressed) That's incredible, Rex. I can't imagine what it must have been like to suddenly find yourself in a completely different world. But it sounds like you've made the most of it.\",\n",
       " 'Aiden': \"Aiden: I was once a knight, sworn to protect my king and kingdom. But when the king fell, I was cast out and left to wander these lands alone.\\nKube: I'm sorry to hear that, Aiden. What happened to your king?\\nAiden: He was betrayed by those closest to him, and I was unable to stop it. I've been searching for a way to redeem myself ever since.\\nKube: It sounds like you've been through a lot, Aiden. But maybe there's still a way for you to make things right.\",\n",
       " 'Carl': \"Carl: I grew up in a small village, where my parents were farmers. I always loved books and learning, so I left home to study at the university. It was there that I discovered my passion for Kubernetes magic.\\nKube: That's fascinating, Carl. What made you want to specialize in Kubernetes magic?\\nCarl: I was drawn to the complexity and power of Kubernetes spells. I spent years studying ancient texts and experimenting with different techniques. Eventually, I became one of the most respected scholars in the field.\\nKube: That's impressive, Carl. I've always been more of a fighter myself, but I can appreciate the value of knowledge.\",\n",
       " 'El': \"El: I've been a merchant for over a decade now. I started with a small stall in the market, selling trinkets and baubles. But I had a dream, a dream of building a vast trading empire that spanned the entire continent.\\nKube: That's quite an impressive journey, El. How did you manage to expand your business to such a scale?\\nEl: It wasn't easy, that's for sure. I had to make deals with all sorts of people, from nobles to bandits. I had to learn how to navigate the complex web of politics and power that governs this world. But I never lost sight of my goal, and now I'm closer than ever to achieving it.\",\n",
       " 'Noah': \"Noah: I used to be part of a guerrilla team, always on the move and relying on my skills to survive.\\nKube: That sounds intense. What made you leave that life behind?\\nNoah: I was tired of the constant running and fighting. I wanted to find a place where I could settle down and be part of something bigger than myself.\\nKube: And that's when you found us?\\nNoah: Yes, I heard about this group of Kubernetes fighters and decided to join. It's been a great experience so far.\\nKube: I'm glad to have you on our team, Noah. Your skills are an asset to us.\",\n",
       " 'Herl': \"Herl: I've always been drawn to the sea, Kube. My father was a sailor, and he taught me everything I know about navigating the open waters.\\nKube: That sounds fascinating, Herl. Have you ever encountered any challenges or dangers while sailing?\\nHerl: Oh, plenty. Storms, pirates, sea monsters - you name it. But that's all part of the adventure, isn't it? There's nothing quite like the feeling of the wind in your hair and the salt spray on your face.\",\n",
       " 'Reno': \"Reno: I was once a rogue, living a life of crime. But I've since changed my ways, seeking redemption through the path of the sword.\\nKube: That's quite a journey. What made you decide to leave that life behind?\\nReno: My brother went missing, and I've been searching for him ever since. I realized that I needed to change if I wanted to find him and protect others.\",\n",
       " 'Zoe': \"Zoe: I've been a knight for as long as I can remember. My parents were both knights, and they raised me to be one too.\\nKube: That sounds like an exciting life! What made you decide to become a knight?\\nZoe: It was always my dream to protect people and make the world a better place. I grew up in a small village, and I saw firsthand how much people suffered from war and conflict. So, I decided to become a knight and do my part to bring peace to the world.\",\n",
       " 'Nina': 'Nina: I was once a curious child, always fascinated by the magical properties of herbs. My parents were both alchemists, so I grew up surrounded by the scent of potions and the sound of bubbling cauldrons.\\nKube: That sounds like an exciting childhood, Nina. What made you decide to focus on Kubernetes potions specifically?\\nNina: I was fascinated by the idea of creating something that could help people in their daily lives, whether it was a potion to heal wounds or one that could make crops grow faster. Plus, the idea of combining magic and science was just too intriguing to resist.',\n",
       " 'Vivian': \"Vivian: (strums her lute) I've always been fascinated by music, Kube. My parents were traveling minstrels, and I grew up on the road, learning to play and sing from them.\\nKube: (nods) That's incredible, Vivian. I can see how your music has the power to inspire and heal. What made you choose to become a bard?\\nVivian: (smiles) I wanted to use my talents to make a difference in the world. When I heard about the war, I knew I had to do something. So, I joined the army as a bard, hoping to lift the spirits of the soldiers and bring them some joy in the midst of the fighting.\",\n",
       " 'Lila': 'Lila: \"I was raised in a magical forest, where my rabbit ears granted me the power to communicate with animals. My playful spirit and agility helped me protect my home and kubernetes village.\"\\nKube: \"That\\'s fascinating, Lila! How did you learn to use magic?\"\\nLila: \"I was born with the gift of magic, but I had to learn to control it. I spent years studying under the wisest mages in the forest, and now I use my powers to help those in need.\"\\nKube: \"I can see why you\\'re so skilled, Lila. Your magical abilities must be a great asset in our battles against the dark forces.\"',\n",
       " 'Stella': 'Stella: \"You know, Kube, I didn\\'t always have these abilities. I was just a curious child, fascinated by the stars. It was my grandmother who first taught me the art of astrology.\"\\nKube: \"That\\'s fascinating, Stella. How did you develop your skills further?\"\\nStella: \"I studied under various masters, each with their unique techniques. But it was a mysterious astrologer who truly opened my eyes to the secrets of the cosmos. They showed me how to read the stars\\' messages and use them to guide others.\"\\nKube: \"Your journey is inspiring, Stella. It\\'s amazing how you\\'ve used your talents to help people.\"',\n",
       " 'Maya': \"Maya: I've been a Kubernetes witch for as long as I can remember. I was born into a family of witches, and my powers were discovered early on. I've always felt a deep connection to nature and have dedicated my life to protecting it.\\nKube: That's fascinating, Maya. How did you discover your powers? And what made you decide to use them to protect the environment?\\nMaya: My powers were discovered when I was just a child. I could communicate with animals and plants, and I knew that I had a special gift. As I grew older, I realized that the environment was in danger, and I knew that I had to do something to protect it. So, I became a Kubernetes witch, using my powers to heal the land and protect it from harm.\",\n",
       " 'Alice': 'Alice: \"I was raised in a remote village, where my family\\'s legacy was to protect our people. But, when I was young, our village was attacked, and I lost everyone. That\\'s when I decided to become a warrior and seek revenge.\"\\nKube: \"I\\'m sorry to hear about your loss, Alice. It takes a lot of courage to turn your pain into strength. How did you become a warrior?\"\\nAlice: \"I trained with the best warriors in the kingdom, learning various fighting styles and mastering weapons. I also studied the art of strategy and leadership to become a better commander. Now, I lead a group of warriors to protect our land from invaders.\"\\nKube: \"That\\'s impressive, Alice. Your determination and strength are inspiring. I\\'m glad I met you on this journey. Let\\'s continue to fight together and protect our people.\"'}"
      ]
     },
     "execution_count": 10,
     "metadata": {},
     "output_type": "execute_result"
    }
   ],
   "source": [
    "data"
   ]
  },
  {
   "cell_type": "code",
   "execution_count": 11,
   "metadata": {},
   "outputs": [
    {
     "name": "stdout",
     "output_type": "stream",
     "text": [
      "Successfully stored 18 items in DynamoDB table 'k8s-grader-api-ConversationTable-15I13NRNZE1VW'\n"
     ]
    }
   ],
   "source": [
    "import boto3\n",
    "\n",
    "# Set up the boto3 session with the specified profile\n",
    "session = boto3.Session(profile_name=\"leaner_lab\", region_name=\"us-east-1\")\n",
    "dynamodb = session.resource(\"dynamodb\")\n",
    "\n",
    "# Get the table reference\n",
    "table = dynamodb.Table(dynamodb_table_name)\n",
    "\n",
    "# Iterate through data and put items in DynamoDB\n",
    "for key, content in data.items():\n",
    "    # Create item structure for DynamoDB\n",
    "    item = {\n",
    "        \"key\": key,\n",
    "        \"instruction\": content,\n",
    "    }\n",
    "\n",
    "    # Put item in DynamoDB\n",
    "    response = table.put_item(Item=item)\n",
    "\n",
    "print(\n",
    "    f\"Successfully stored {len(data)} items in DynamoDB table '{dynamodb_table_name}'\"\n",
    ")"
   ]
  },
  {
   "cell_type": "code",
   "execution_count": null,
   "metadata": {},
   "outputs": [],
   "source": []
  }
 ],
 "metadata": {
  "kernelspec": {
   "display_name": "venv",
   "language": "python",
   "name": "python3"
  },
  "language_info": {
   "codemirror_mode": {
    "name": "ipython",
    "version": 3
   },
   "file_extension": ".py",
   "mimetype": "text/x-python",
   "name": "python",
   "nbconvert_exporter": "python",
   "pygments_lexer": "ipython3",
   "version": "3.12.11"
  }
 },
 "nbformat": 4,
 "nbformat_minor": 2
}
